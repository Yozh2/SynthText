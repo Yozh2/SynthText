{
 "cells": [
  {
   "cell_type": "markdown",
   "metadata": {},
   "source": [
    "# .h5 dataset examination\n",
    "\n",
    "## Why?\n",
    "\n",
    "To figure out what's inside and in which format."
   ]
  },
  {
   "cell_type": "code",
   "execution_count": 1,
   "metadata": {},
   "outputs": [
    {
     "name": "stdout",
     "output_type": "stream",
     "text": [
      "dataset_examination.ipynb  segs.h5  SynthText.h5\r\n"
     ]
    }
   ],
   "source": [
    "# Show what's in the directory we are in\n",
    "!ls "
   ]
  },
  {
   "cell_type": "code",
   "execution_count": 5,
   "metadata": {},
   "outputs": [],
   "source": [
    "import h5py\n",
    "import numpy as np\n",
    "import cv2\n",
    "from PIL import Image\n",
    "import matplotlib.pyplot as plt\n",
    "%matplotlib inline"
   ]
  },
  {
   "cell_type": "markdown",
   "metadata": {},
   "source": [
    "## Open dataset and see, what's inside"
   ]
  },
  {
   "cell_type": "code",
   "execution_count": 3,
   "metadata": {},
   "outputs": [],
   "source": [
    "db_path = 'SynthText.h5'\n",
    "db = h5py.File(db_path,'r')"
   ]
  },
  {
   "cell_type": "code",
   "execution_count": 4,
   "metadata": {},
   "outputs": [
    {
     "name": "stdout",
     "output_type": "stream",
     "text": [
      "[('hiking_125.jpg_0', <HDF5 dataset \"hiking_125.jpg_0\": shape (500, 600, 3), type \"|u1\">), ('indian+musicians_116.jpg_0', <HDF5 dataset \"indian+musicians_116.jpg_0\": shape (600, 400, 3), type \"|u1\">), ('sandwich_96.jpg_0', <HDF5 dataset \"sandwich_96.jpg_0\": shape (446, 600, 3), type \"|u1\">), ('sea_15.jpg_0', <HDF5 dataset \"sea_15.jpg_0\": shape (375, 600, 3), type \"|u1\">), ('village_43.jpg_0', <HDF5 dataset \"village_43.jpg_0\": shape (476, 600, 3), type \"|u1\">)]\n"
     ]
    }
   ],
   "source": [
    "print(list(db['data'].items()))"
   ]
  },
  {
   "cell_type": "markdown",
   "metadata": {},
   "source": [
    "## Add segmentation images to your own dataset"
   ]
  },
  {
   "cell_type": "code",
   "execution_count": 15,
   "metadata": {},
   "outputs": [],
   "source": [
    "import numpy as np\n",
    "def add_segs_to_db(db_path='segs.h5', segs=None, imgname='image'):\n",
    "    \"\"\"\n",
    "    Add segmentated images and their names\n",
    "    to the dataset.\n",
    "    \"\"\"\n",
    "    db = h5py.File(db_path,'w')\n",
    "    db.create_group(\"ucms\")\n",
    "    names = list()\n",
    "    ninstance = len(segs)\n",
    "\n",
    "    for i in range(ninstance):\n",
    "        dname = \"%s_%d\"%(imgname, i)\n",
    "\n",
    "        db['ucms'].create_dataset(dname, data=segs[i])\n",
    "        names.append(dname)\n",
    "\n",
    "    # add names\n",
    "\n",
    "    names_ascii = [n.encode(\"ascii\", \"ignore\") for n in names]\n",
    "    db.create_dataset('names', (len(names_ascii),1),'S10', names_ascii)\n",
    "    db.close()"
   ]
  },
  {
   "cell_type": "code",
   "execution_count": 6,
   "metadata": {},
   "outputs": [],
   "source": [
    "# Function for tests (this is used in original code)\n",
    "def get_imname(ucm_h5, i):\n",
    "            return \"\".join(map(chr, ucm_h5['names'][0,i][:]))"
   ]
  },
  {
   "cell_type": "code",
   "execution_count": 7,
   "metadata": {},
   "outputs": [],
   "source": [
    "# Load segmentation image we want to store to the .h5 dataset\n",
    "seg_image = cv2.imread('/home/gayduchenko/data/curved_paper_segmentation.jpg')"
   ]
  },
  {
   "cell_type": "code",
   "execution_count": 8,
   "metadata": {},
   "outputs": [],
   "source": [
    "# Add the image to the dataset\n",
    "segs = list()\n",
    "segs.append(seg_image)\n",
    "add_segs_to_db(segs=segs)"
   ]
  },
  {
   "cell_type": "code",
   "execution_count": 9,
   "metadata": {},
   "outputs": [
    {
     "name": "stdout",
     "output_type": "stream",
     "text": [
      "dataset_examination.ipynb  segs.h5  SynthText.h5\r\n"
     ]
    }
   ],
   "source": [
    "# See what we have got\n",
    "!ls"
   ]
  },
  {
   "cell_type": "markdown",
   "metadata": {},
   "source": [
    "Датасет создан! Теперь проверим, всё ли нормально создалось."
   ]
  },
  {
   "cell_type": "code",
   "execution_count": 50,
   "metadata": {},
   "outputs": [
    {
     "name": "stdout",
     "output_type": "stream",
     "text": [
      "[105, 109, 97, 103, 101, 95, 48]\n"
     ]
    }
   ],
   "source": [
    "# Load dataset made by PyTorch-HED with segmentation images\n",
    "dset = h5py.File('../../pytorch-hed/out.png.h5', 'r')\n",
    "print(list(dset['names'][0, 0]))"
   ]
  },
  {
   "cell_type": "code",
   "execution_count": 23,
   "metadata": {},
   "outputs": [
    {
     "data": {
      "text/plain": [
       "'image_0'"
      ]
     },
     "execution_count": 23,
     "metadata": {},
     "output_type": "execute_result"
    }
   ],
   "source": [
    "# Test function on the first image of the dataset\n",
    "get_imname(dset, 0)"
   ]
  },
  {
   "cell_type": "markdown",
   "metadata": {},
   "source": [
    "Works pretty fine"
   ]
  },
  {
   "cell_type": "code",
   "execution_count": 19,
   "metadata": {},
   "outputs": [],
   "source": [
    "# Print dataset as a tree\n",
    "def print_attrs(name, obj):\n",
    "    print(name)\n",
    "    for key, val in obj.attrs.items():\n",
    "        print (\"    %s: %s\" % (key, val))"
   ]
  },
  {
   "cell_type": "code",
   "execution_count": 11,
   "metadata": {},
   "outputs": [
    {
     "ename": "NameError",
     "evalue": "name 'dset' is not defined",
     "output_type": "error",
     "traceback": [
      "\u001b[0;31m---------------------------------------------------------------------------\u001b[0m",
      "\u001b[0;31mNameError\u001b[0m                                 Traceback (most recent call last)",
      "\u001b[0;32m<ipython-input-11-bad3c2f9515d>\u001b[0m in \u001b[0;36m<module>\u001b[0;34m()\u001b[0m\n\u001b[1;32m      5\u001b[0m         \u001b[0mprint\u001b[0m \u001b[0;34m(\u001b[0m\u001b[0;34m\"    %s: %s\"\u001b[0m \u001b[0;34m%\u001b[0m \u001b[0;34m(\u001b[0m\u001b[0mkey\u001b[0m\u001b[0;34m,\u001b[0m \u001b[0mval\u001b[0m\u001b[0;34m)\u001b[0m\u001b[0;34m)\u001b[0m\u001b[0;34m\u001b[0m\u001b[0m\n\u001b[1;32m      6\u001b[0m \u001b[0;34m\u001b[0m\u001b[0m\n\u001b[0;32m----> 7\u001b[0;31m \u001b[0mdset\u001b[0m\u001b[0;34m.\u001b[0m\u001b[0mvisititems\u001b[0m\u001b[0;34m(\u001b[0m\u001b[0mprint_attrs\u001b[0m\u001b[0;34m)\u001b[0m\u001b[0;34m\u001b[0m\u001b[0m\n\u001b[0m",
      "\u001b[0;31mNameError\u001b[0m: name 'dset' is not defined"
     ]
    }
   ],
   "source": [
    "dset.visititems(print_attrs)"
   ]
  },
  {
   "cell_type": "markdown",
   "metadata": {},
   "source": [
    "## Check the segmentation image"
   ]
  },
  {
   "cell_type": "code",
   "execution_count": 56,
   "metadata": {},
   "outputs": [
    {
     "data": {
      "image/png": "[encoded data removed]",
      "text/plain": [
       "<Figure size 432x288 with 1 Axes>"
      ]
     },
     "metadata": {
      "needs_background": "light"
     },
     "output_type": "display_data"
    }
   ],
   "source": [
    "# Check the segmentation image\n",
    "pixels = dset['ucms'][dset['names'][0, 0]][:] \n",
    "fig, ax = plt.subplots()\n",
    "ax.set_axis_off()\n",
    "fig.subplots_adjust(bottom = 0)\n",
    "fig.subplots_adjust(top = 1)\n",
    "fig.subplots_adjust(right = 1)\n",
    "fig.subplots_adjust(left = 0)\n",
    "im = ax.imshow(pixels)\n",
    "\n",
    "# SAVE and show the image\n",
    "fig.savefig('out_segmented.png', bbox_inches='tight', pad_inches=0)\n",
    "plt.show()"
   ]
  },
  {
   "cell_type": "code",
   "execution_count": 54,
   "metadata": {},
   "outputs": [
    {
     "name": "stdout",
     "output_type": "stream",
     "text": [
      "dataset_examination.ipynb  out_segmented.png  segs.h5  SynthText.h5\r\n"
     ]
    }
   ],
   "source": [
    "!ls"
   ]
  },
  {
   "cell_type": "markdown",
   "metadata": {},
   "source": [
    "## Check labeled dataset curved_paper_labeled.h5\n",
    "\n",
    "We have passed the dataset `curved_paper_segmented.jpg.h5` prepared before as an output of `pytorch-hed/run.py` file. Now we want to get labels and areas (and segments) using `SynthText3/prep_scripts/floodFill.py` script. The script takes the dataset described above as input and returns labeled dataset `curved_paper_labeled.h5` as output. Let's see, what we have got at the end:"
   ]
  },
  {
   "cell_type": "code",
   "execution_count": 16,
   "metadata": {},
   "outputs": [
    {
     "name": "stdout",
     "output_type": "stream",
     "text": [
      "curved_paper.jpg\t    curved_paper_labels.h5\r\n",
      "curved_paper.jpg_depth.npy  curved_paper_segmented.jpg\r\n",
      "curved_paper.jpg_depth.png  curved_paper_segmented.jpg.h5\r\n"
     ]
    }
   ],
   "source": [
    "!ls ~/data"
   ]
  },
  {
   "cell_type": "code",
   "execution_count": 28,
   "metadata": {},
   "outputs": [
    {
     "name": "stdout",
     "output_type": "stream",
     "text": [
      "mask\n",
      "mask/image_0\n",
      "    area: [    37    132     11    390     78   1881     19    285    159      6\n",
      "     56   1970  32932      2      4      1    298      2    246     75\n",
      "      2    198    534     87   1132    773     16  23331     16   2300\n",
      "     10      1    142     56     92    338      2    391 103544     63\n",
      "  15329      1   4471  13328      4   1021   2035      1     85      2\n",
      "    974    135      6    525    281   3296    244 153663    897    179\n",
      "      1    210      4   1522     43      1   1903     83    813    309\n",
      "     36      4  25951    389      1    124   4987     28     99]\n",
      "    label: [ 1  2  3  4  5  6  7  8  9 10 11 12 13 14 15 16 17 18 19 20 21 22 23 24\n",
      " 25 26 27 28 29 30 31 32 33 34 35 36 37 38 39 40 41 42 43 44 45 46 47 48\n",
      " 49 50 51 52 53 54 55 56 57 58 59 60 61 62 63 64 65 66 67 68 69 70 71 72\n",
      " 73 74 75 76 77 78 79]\n"
     ]
    }
   ],
   "source": [
    "labels_file = h5py.File('/home/gayduchenko/data/curved_paper_labels.h5', 'r')\n",
    "labels_file.visititems(print_attrs)"
   ]
  },
  {
   "cell_type": "code",
   "execution_count": 40,
   "metadata": {},
   "outputs": [
    {
     "data": {
      "image/png": "[encoded data removed]",
      "text/plain": [
       "<Figure size 432x288 with 1 Axes>"
      ]
     },
     "metadata": {},
     "output_type": "display_data"
    }
   ],
   "source": [
    "# Check the segmentation image\n",
    "pixels = labels_file['mask/image_0'][:]\n",
    "fig, ax = plt.subplots()\n",
    "ax.set_axis_off()\n",
    "fig.subplots_adjust(bottom = 0)\n",
    "fig.subplots_adjust(top = 1)\n",
    "fig.subplots_adjust(right = 1)\n",
    "fig.subplots_adjust(left = 0)\n",
    "ax.xaxis.set_major_locator(plt.NullLocator())\n",
    "ax.yaxis.set_major_locator(plt.NullLocator())\n",
    "im = ax.imshow(pixels)\n",
    "\n",
    "# SAVE and show the image\n",
    "import os.path as osp\n",
    "home = osp.expanduser(\"~\")\n",
    "fig.savefig(osp.join(home, 'data/curved_paper_labels.jpg'), bbox_inches='tight', pad_inches=0)\n",
    "plt.show()"
   ]
  },
  {
   "cell_type": "code",
   "execution_count": 32,
   "metadata": {},
   "outputs": [
    {
     "name": "stdout",
     "output_type": "stream",
     "text": [
      "curved_paper_labels.jpg    out_segmented.png  SynthText.h5\r\n",
      "dataset_examination.ipynb  segs.h5\r\n"
     ]
    }
   ],
   "source": [
    "!ls"
   ]
  },
  {
   "cell_type": "code",
   "execution_count": null,
   "metadata": {},
   "outputs": [],
   "source": []
  }
 ],
 "metadata": {
  "kernelspec": {
   "display_name": "Python 3",
   "language": "python",
   "name": "python3"
  },
  "language_info": {
   "codemirror_mode": {
    "name": "ipython",
    "version": 3
   },
   "file_extension": ".py",
   "mimetype": "text/x-python",
   "name": "python",
   "nbconvert_exporter": "python",
   "pygments_lexer": "ipython3",
   "version": "3.6.6"
  }
 },
 "nbformat": 4,
 "nbformat_minor": 2
}
